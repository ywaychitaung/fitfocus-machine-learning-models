{
  "cells": [
    {
      "cell_type": "markdown",
      "source": [
        "Connect to the Google drive"
      ],
      "metadata": {
        "id": "OyHjGf45fhFb"
      },
      "id": "OyHjGf45fhFb"
    },
    {
      "cell_type": "code",
      "source": [
        "from google.colab import drive\n",
        "drive.mount('/gdrive')"
      ],
      "metadata": {
        "id": "Hfj0L9WZfgzX",
        "colab": {
          "base_uri": "https://localhost:8080/"
        },
        "outputId": "8d3ecfe0-4fc2-4c9f-90a8-bbca9e1940bb"
      },
      "id": "Hfj0L9WZfgzX",
      "execution_count": 1,
      "outputs": [
        {
          "output_type": "stream",
          "name": "stdout",
          "text": [
            "Mounted at /gdrive\n"
          ]
        }
      ]
    },
    {
      "cell_type": "markdown",
      "source": [
        "Import libraries we use"
      ],
      "metadata": {
        "id": "1zFPa7Vbfqzf"
      },
      "id": "1zFPa7Vbfqzf"
    },
    {
      "cell_type": "code",
      "execution_count": 2,
      "id": "670ebd5a",
      "metadata": {
        "id": "670ebd5a"
      },
      "outputs": [],
      "source": [
        "import tensorflow as tf\n",
        "import numpy as np\n",
        "import pandas as pd\n",
        "import matplotlib.pyplot as plt\n",
        "import os"
      ]
    },
    {
      "cell_type": "code",
      "execution_count": 3,
      "id": "dbee3da9",
      "metadata": {
        "id": "dbee3da9"
      },
      "outputs": [],
      "source": [
        "from keras.preprocessing import image\n",
        "from keras.preprocessing.image import ImageDataGenerator\n",
        "from keras.utils import to_categorical\n",
        "from keras import models\n",
        "from keras.models import load_model\n",
        "from keras.models import Sequential\n",
        "from keras.layers import Conv2D, Dense, MaxPooling2D, Flatten, Dropout\n",
        "from PIL import Image"
      ]
    },
    {
      "cell_type": "markdown",
      "source": [
        "Define image dimensions, batch size and epochs"
      ],
      "metadata": {
        "id": "tz9onDgUfdMd"
      },
      "id": "tz9onDgUfdMd"
    },
    {
      "cell_type": "code",
      "execution_count": 4,
      "id": "5a7b179d",
      "metadata": {
        "id": "5a7b179d"
      },
      "outputs": [],
      "source": [
        "image_height = 256\n",
        "image_width = 256\n",
        "batch_size = 128\n",
        "epochs = 10"
      ]
    },
    {
      "cell_type": "markdown",
      "source": [
        "Define paths to your dataset"
      ],
      "metadata": {
        "id": "yNEXGVFCfzNT"
      },
      "id": "yNEXGVFCfzNT"
    },
    {
      "cell_type": "code",
      "execution_count": 5,
      "id": "2448b6e2",
      "metadata": {
        "id": "2448b6e2"
      },
      "outputs": [],
      "source": [
        "train_directory = '/gdrive/MyDrive/Machine Learning/ADdatasets/train/foods_train_pro'\n",
        "test_directory = '/gdrive/MyDrive/Machine Learning/ADdatasets/test/foods_test_pro'\n",
        "validation_directory = '/gdrive/MyDrive/Machine Learning/ADdatasets/validation/foods_validation_pro'"
      ]
    },
    {
      "cell_type": "markdown",
      "source": [
        "Define the CNN model and compile it"
      ],
      "metadata": {
        "id": "ZFnj7tMAhvif"
      },
      "id": "ZFnj7tMAhvif"
    },
    {
      "cell_type": "code",
      "execution_count": 6,
      "id": "184b453c",
      "metadata": {
        "id": "184b453c"
      },
      "outputs": [],
      "source": [
        "'''\n",
        "Create image classification model\n",
        "'''\n",
        "def create_model():\n",
        "    model = Sequential()\n",
        "\n",
        "    # create a CNN model\n",
        "    model.add(Conv2D(filters=32, kernel_size=(3, 3), activation='relu', input_shape=(image_height, image_width, 3)))\n",
        "    model.add(MaxPooling2D((2, 2)))\n",
        "    model.add(Conv2D(filters=64, kernel_size=(3, 3), activation='relu'))\n",
        "    model.add(MaxPooling2D((2, 2)))\n",
        "    model.add(Conv2D(filters=128, kernel_size=(3, 3), activation='relu'))\n",
        "    model.add(MaxPooling2D((2, 2)))\n",
        "    model.add(Conv2D(filters=256, kernel_size=(3, 3), activation='relu'))\n",
        "    model.add(MaxPooling2D((2, 2)))\n",
        "    model.add(Conv2D(filters=512, kernel_size=(3, 3), activation='relu'))\n",
        "    model.add(MaxPooling2D((2, 2)))\n",
        "    model.add(Flatten())\n",
        "    model.add(Dense(units=512, activation='relu'))\n",
        "    model.add(Dropout(0.5))\n",
        "\n",
        "    # output layer: performs classification\n",
        "    # 101 possible classes\n",
        "    model.add(Dense(units=19, activation='softmax'))\n",
        "\n",
        "    # build the model\n",
        "    model.compile(optimizer='adam',\n",
        "              loss='categorical_crossentropy',\n",
        "              metrics=['accuracy'])\n",
        "\n",
        "    return model"
      ]
    },
    {
      "cell_type": "markdown",
      "source": [
        "Main program"
      ],
      "metadata": {
        "id": "OkASrHheiHkW"
      },
      "id": "OkASrHheiHkW"
    },
    {
      "cell_type": "code",
      "execution_count": 13,
      "id": "3b98baba",
      "metadata": {
        "lines_to_next_cell": 1,
        "id": "3b98baba"
      },
      "outputs": [],
      "source": [
        "'''\n",
        "Main program.\n",
        "'''\n",
        "def main():\n",
        "    # create our CNN model\n",
        "    model = create_model()\n",
        "\n",
        "    # model architecture\n",
        "    print(model.summary())\n",
        "\n",
        "    '''\n",
        "        Here, we use a data generator to feed in our data to our model.\n",
        "        This is useful when we have a large dataset and we do not want\n",
        "        to load all of it into memory at once. Instead, we can load a\n",
        "        batch of data at a time.\n",
        "    '''\n",
        "    # RGB values are from 0 to 255; rescale each value by 1/255\n",
        "    ImageFlow = ImageDataGenerator(\n",
        "        rescale=1/255,\n",
        "        rotation_range=40,\n",
        "        width_shift_range=0.2,\n",
        "        height_shift_range=0.2,\n",
        "        shear_range=0.2,\n",
        "        zoom_range=0.2,\n",
        "        horizontal_flip=True,\n",
        "        fill_mode='nearest'\n",
        "    )\n",
        "\n",
        "    # specify which directory our train data should be read from\n",
        "    train_generator = ImageFlow.flow_from_directory(\n",
        "        directory=train_directory,\n",
        "        target_size=(image_height, image_width),\n",
        "        batch_size=batch_size,\n",
        "        class_mode='categorical',\n",
        "        color_mode='rgb',\n",
        "        subset='training'\n",
        "    )\n",
        "\n",
        "    # specify which directory our validation data should be read from\n",
        "    validation_generator = ImageFlow.flow_from_directory(\n",
        "        directory=validation_directory,\n",
        "        target_size=(image_height, image_width),\n",
        "        batch_size=batch_size,\n",
        "        class_mode='categorical',\n",
        "        color_mode='rgb',\n",
        "        subset='validation'\n",
        "    )\n",
        "\n",
        "    # compute the number of batches per epoch\n",
        "    # the symbol // means to divide and floor the result\n",
        "    steps_per_epoch = train_generator.n//train_generator.batch_size\n",
        "\n",
        "    # train our model by feeding in the data generator\n",
        "    history = model.fit(\n",
        "        train_generator,\n",
        "        steps_per_epoch=steps_per_epoch,\n",
        "        batch_size=batch_size,\n",
        "        epochs=100,\n",
        "        validation_data=validation_generator\n",
        "    )\n",
        "\n",
        "    # test how well our model performs against data\n",
        "    # that it has not seen before\n",
        "    # model.evaluate(x=x_test/255, y=y_test)\n",
        "    model.evaluate(validation_generator)\n",
        "\n",
        "    #plt.plot(history.history['accuracy'], label='accuracy')\n",
        "    #plt.plot(history.history['val_accuracy'], label = 'val_accuracy')\n",
        "    #plt.xlabel('Epoch')\n",
        "    #plt.ylabel('Accuracy')\n",
        "    #plt.ylim([0, 1])\n",
        "    #plt.legend(loc='lower right')\n",
        "    #plt.show()\n",
        "\n",
        "\n",
        "    #ax = plt.subplots()\n",
        "\n",
        "    #plt.plot(history.history['loss'])\n",
        "    #ax.set_xlabel('Epochs')\n",
        "    #ax.set_ylabel('Error')\n",
        "    #ax.set_title('Loss curve')\n",
        "\n",
        "    #plt.show()\n",
        "\n",
        "    def load_and_preprocess_image(img_path, target_size=(image_height, image_width)):\n",
        "        img = image.load_img(img_path, target_size=target_size)\n",
        "        img_array = image.img_to_array(img)\n",
        "        img_array = np.expand_dims(img_array, axis=0)\n",
        "        img_array /= 255.0\n",
        "\n",
        "        return img_array\n",
        "\n",
        "    def test_model(model, test_directory, class_labels):\n",
        "        test_images = [f for f in os.listdir(test_directory) if f.endswith('.jpg')]\n",
        "\n",
        "        image_names = []\n",
        "        actual_class = []\n",
        "        predicted_class = []\n",
        "\n",
        "        for image_name in test_images:\n",
        "            img_path = os.path.join(test_directory, image_name)\n",
        "            img_array = load_and_preprocess_image(img_path)\n",
        "\n",
        "            predictions = model.predict(img_array)\n",
        "            predicted_label = np.argmax(predictions)\n",
        "            actual_label = image_name.split('_')[0]\n",
        "\n",
        "            image_names.append(image_name)\n",
        "            actual_class.append(actual_label)\n",
        "            predicted_class.append(predicted_label)\n",
        "\n",
        "        results_df = pd.DataFrame({'Image': image_names, 'Actual Class': actual_class, 'Predicted Class': predicted_class})\n",
        "        results_df['Predicted Class'] = results_df['Predicted Class'].map(class_labels)\n",
        "\n",
        "        return results_df\n",
        "\n",
        "    def load_class_labels(filename):\n",
        "        with open(filename, 'r') as file:\n",
        "            class_labels = file.read().splitlines()\n",
        "        return class_labels\n",
        "\n",
        "    def save_results_and_display_accuracy(results_df, save_path):\n",
        "        results_df.to_csv(save_path, index=False)\n",
        "\n",
        "        correct_predictions = np.sum(np.array(results_df['Actual Class']) == np.array(results_df['Predicted Class']))\n",
        "        total_predictions = len(results_df)\n",
        "        accuracy = correct_predictions / total_predictions\n",
        "\n",
        "        print(f'Test Accuracy: {accuracy * 100}%')\n",
        "\n",
        "    # Load the trained model\n",
        "    model_path = '/gdrive/MyDrive/Machine Learning/ADmodels/food_recognition_model.h5'\n",
        "    model.save(model_path)\n",
        "    trained_model = models.load_model(model_path)\n",
        "\n",
        "    #\n",
        "    class_labels = load_class_labels('/gdrive/MyDrive/Machine Learning/ADdatasets/txt/classes.txt')\n",
        "\n",
        "    # Test the model\n",
        "    results_df = test_model(trained_model, test_directory, class_labels)\n",
        "\n",
        "    # Save results and display accuracy\n",
        "    save_path = '/gdrive/MyDrive/Machine Learning/ADresults/result.csv'\n",
        "    save_results_and_display_accuracy(results_df, save_path)"
      ]
    },
    {
      "cell_type": "code",
      "execution_count": 14,
      "id": "aa4a0b6f",
      "metadata": {
        "id": "aa4a0b6f",
        "colab": {
          "base_uri": "https://localhost:8080/",
          "height": 1000
        },
        "outputId": "c238c72d-b6e3-4bd7-ffef-257a28be8fd2"
      },
      "outputs": [
        {
          "output_type": "stream",
          "name": "stdout",
          "text": [
            "Model: \"sequential_4\"\n",
            "_________________________________________________________________\n",
            " Layer (type)                Output Shape              Param #   \n",
            "=================================================================\n",
            " conv2d_20 (Conv2D)          (None, 254, 254, 32)      896       \n",
            "                                                                 \n",
            " max_pooling2d_20 (MaxPooli  (None, 127, 127, 32)      0         \n",
            " ng2D)                                                           \n",
            "                                                                 \n",
            " conv2d_21 (Conv2D)          (None, 125, 125, 64)      18496     \n",
            "                                                                 \n",
            " max_pooling2d_21 (MaxPooli  (None, 62, 62, 64)        0         \n",
            " ng2D)                                                           \n",
            "                                                                 \n",
            " conv2d_22 (Conv2D)          (None, 60, 60, 128)       73856     \n",
            "                                                                 \n",
            " max_pooling2d_22 (MaxPooli  (None, 30, 30, 128)       0         \n",
            " ng2D)                                                           \n",
            "                                                                 \n",
            " conv2d_23 (Conv2D)          (None, 28, 28, 256)       295168    \n",
            "                                                                 \n",
            " max_pooling2d_23 (MaxPooli  (None, 14, 14, 256)       0         \n",
            " ng2D)                                                           \n",
            "                                                                 \n",
            " conv2d_24 (Conv2D)          (None, 12, 12, 512)       1180160   \n",
            "                                                                 \n",
            " max_pooling2d_24 (MaxPooli  (None, 6, 6, 512)         0         \n",
            " ng2D)                                                           \n",
            "                                                                 \n",
            " flatten_4 (Flatten)         (None, 18432)             0         \n",
            "                                                                 \n",
            " dense_8 (Dense)             (None, 512)               9437696   \n",
            "                                                                 \n",
            " dropout_4 (Dropout)         (None, 512)               0         \n",
            "                                                                 \n",
            " dense_9 (Dense)             (None, 101)               51813     \n",
            "                                                                 \n",
            "=================================================================\n",
            "Total params: 11058085 (42.18 MB)\n",
            "Trainable params: 11058085 (42.18 MB)\n",
            "Non-trainable params: 0 (0.00 Byte)\n",
            "_________________________________________________________________\n",
            "None\n",
            "Found 14107 images belonging to 19 classes.\n",
            "Found 0 images belonging to 19 classes.\n",
            "Epoch 1/100\n"
          ]
        },
        {
          "output_type": "error",
          "ename": "InvalidArgumentError",
          "evalue": "Graph execution error:\n\nDetected at node categorical_crossentropy/softmax_cross_entropy_with_logits defined at (most recent call last):\n  File \"/usr/lib/python3.10/runpy.py\", line 196, in _run_module_as_main\n\n  File \"/usr/lib/python3.10/runpy.py\", line 86, in _run_code\n\n  File \"/usr/local/lib/python3.10/dist-packages/colab_kernel_launcher.py\", line 37, in <module>\n\n  File \"/usr/local/lib/python3.10/dist-packages/traitlets/config/application.py\", line 992, in launch_instance\n\n  File \"/usr/local/lib/python3.10/dist-packages/ipykernel/kernelapp.py\", line 619, in start\n\n  File \"/usr/local/lib/python3.10/dist-packages/tornado/platform/asyncio.py\", line 195, in start\n\n  File \"/usr/lib/python3.10/asyncio/base_events.py\", line 603, in run_forever\n\n  File \"/usr/lib/python3.10/asyncio/base_events.py\", line 1909, in _run_once\n\n  File \"/usr/lib/python3.10/asyncio/events.py\", line 80, in _run\n\n  File \"/usr/local/lib/python3.10/dist-packages/tornado/ioloop.py\", line 685, in <lambda>\n\n  File \"/usr/local/lib/python3.10/dist-packages/tornado/ioloop.py\", line 738, in _run_callback\n\n  File \"/usr/local/lib/python3.10/dist-packages/tornado/gen.py\", line 825, in inner\n\n  File \"/usr/local/lib/python3.10/dist-packages/tornado/gen.py\", line 786, in run\n\n  File \"/usr/local/lib/python3.10/dist-packages/ipykernel/kernelbase.py\", line 361, in process_one\n\n  File \"/usr/local/lib/python3.10/dist-packages/tornado/gen.py\", line 234, in wrapper\n\n  File \"/usr/local/lib/python3.10/dist-packages/ipykernel/kernelbase.py\", line 261, in dispatch_shell\n\n  File \"/usr/local/lib/python3.10/dist-packages/tornado/gen.py\", line 234, in wrapper\n\n  File \"/usr/local/lib/python3.10/dist-packages/ipykernel/kernelbase.py\", line 539, in execute_request\n\n  File \"/usr/local/lib/python3.10/dist-packages/tornado/gen.py\", line 234, in wrapper\n\n  File \"/usr/local/lib/python3.10/dist-packages/ipykernel/ipkernel.py\", line 302, in do_execute\n\n  File \"/usr/local/lib/python3.10/dist-packages/ipykernel/zmqshell.py\", line 539, in run_cell\n\n  File \"/usr/local/lib/python3.10/dist-packages/IPython/core/interactiveshell.py\", line 2975, in run_cell\n\n  File \"/usr/local/lib/python3.10/dist-packages/IPython/core/interactiveshell.py\", line 3030, in _run_cell\n\n  File \"/usr/local/lib/python3.10/dist-packages/IPython/core/async_helpers.py\", line 78, in _pseudo_sync_runner\n\n  File \"/usr/local/lib/python3.10/dist-packages/IPython/core/interactiveshell.py\", line 3257, in run_cell_async\n\n  File \"/usr/local/lib/python3.10/dist-packages/IPython/core/interactiveshell.py\", line 3473, in run_ast_nodes\n\n  File \"/usr/local/lib/python3.10/dist-packages/IPython/core/interactiveshell.py\", line 3553, in run_code\n\n  File \"<ipython-input-14-52f7e06e299e>\", line 3, in <cell line: 2>\n\n  File \"<ipython-input-13-76e4b190cdc6>\", line 54, in main\n\n  File \"/usr/local/lib/python3.10/dist-packages/keras/src/utils/traceback_utils.py\", line 65, in error_handler\n\n  File \"/usr/local/lib/python3.10/dist-packages/keras/src/engine/training.py\", line 1807, in fit\n\n  File \"/usr/local/lib/python3.10/dist-packages/keras/src/engine/training.py\", line 1401, in train_function\n\n  File \"/usr/local/lib/python3.10/dist-packages/keras/src/engine/training.py\", line 1384, in step_function\n\n  File \"/usr/local/lib/python3.10/dist-packages/keras/src/engine/training.py\", line 1373, in run_step\n\n  File \"/usr/local/lib/python3.10/dist-packages/keras/src/engine/training.py\", line 1151, in train_step\n\n  File \"/usr/local/lib/python3.10/dist-packages/keras/src/engine/training.py\", line 1209, in compute_loss\n\n  File \"/usr/local/lib/python3.10/dist-packages/keras/src/engine/compile_utils.py\", line 277, in __call__\n\n  File \"/usr/local/lib/python3.10/dist-packages/keras/src/losses.py\", line 143, in __call__\n\n  File \"/usr/local/lib/python3.10/dist-packages/keras/src/losses.py\", line 270, in call\n\n  File \"/usr/local/lib/python3.10/dist-packages/keras/src/losses.py\", line 2221, in categorical_crossentropy\n\n  File \"/usr/local/lib/python3.10/dist-packages/keras/src/backend.py\", line 5579, in categorical_crossentropy\n\nlogits and labels must be broadcastable: logits_size=[128,101] labels_size=[128,19]\n\t [[{{node categorical_crossentropy/softmax_cross_entropy_with_logits}}]] [Op:__inference_train_function_6434]",
          "traceback": [
            "\u001b[0;31m---------------------------------------------------------------------------\u001b[0m",
            "\u001b[0;31mInvalidArgumentError\u001b[0m                      Traceback (most recent call last)",
            "\u001b[0;32m<ipython-input-14-52f7e06e299e>\u001b[0m in \u001b[0;36m<cell line: 2>\u001b[0;34m()\u001b[0m\n\u001b[1;32m      1\u001b[0m \u001b[0;31m# running app\u001b[0m\u001b[0;34m\u001b[0m\u001b[0;34m\u001b[0m\u001b[0m\n\u001b[1;32m      2\u001b[0m \u001b[0;32mif\u001b[0m \u001b[0m__name__\u001b[0m \u001b[0;34m==\u001b[0m \u001b[0;34m'__main__'\u001b[0m\u001b[0;34m:\u001b[0m\u001b[0;34m\u001b[0m\u001b[0;34m\u001b[0m\u001b[0m\n\u001b[0;32m----> 3\u001b[0;31m   \u001b[0mmain\u001b[0m\u001b[0;34m(\u001b[0m\u001b[0;34m)\u001b[0m\u001b[0;34m;\u001b[0m\u001b[0;34m\u001b[0m\u001b[0;34m\u001b[0m\u001b[0m\n\u001b[0m",
            "\u001b[0;32m<ipython-input-13-76e4b190cdc6>\u001b[0m in \u001b[0;36mmain\u001b[0;34m()\u001b[0m\n\u001b[1;32m     52\u001b[0m \u001b[0;34m\u001b[0m\u001b[0m\n\u001b[1;32m     53\u001b[0m     \u001b[0;31m# train our model by feeding in the data generator\u001b[0m\u001b[0;34m\u001b[0m\u001b[0;34m\u001b[0m\u001b[0m\n\u001b[0;32m---> 54\u001b[0;31m     history = model.fit(\n\u001b[0m\u001b[1;32m     55\u001b[0m         \u001b[0mtrain_generator\u001b[0m\u001b[0;34m,\u001b[0m\u001b[0;34m\u001b[0m\u001b[0;34m\u001b[0m\u001b[0m\n\u001b[1;32m     56\u001b[0m         \u001b[0msteps_per_epoch\u001b[0m\u001b[0;34m=\u001b[0m\u001b[0msteps_per_epoch\u001b[0m\u001b[0;34m,\u001b[0m\u001b[0;34m\u001b[0m\u001b[0;34m\u001b[0m\u001b[0m\n",
            "\u001b[0;32m/usr/local/lib/python3.10/dist-packages/keras/src/utils/traceback_utils.py\u001b[0m in \u001b[0;36merror_handler\u001b[0;34m(*args, **kwargs)\u001b[0m\n\u001b[1;32m     68\u001b[0m             \u001b[0;31m# To get the full stack trace, call:\u001b[0m\u001b[0;34m\u001b[0m\u001b[0;34m\u001b[0m\u001b[0m\n\u001b[1;32m     69\u001b[0m             \u001b[0;31m# `tf.debugging.disable_traceback_filtering()`\u001b[0m\u001b[0;34m\u001b[0m\u001b[0;34m\u001b[0m\u001b[0m\n\u001b[0;32m---> 70\u001b[0;31m             \u001b[0;32mraise\u001b[0m \u001b[0me\u001b[0m\u001b[0;34m.\u001b[0m\u001b[0mwith_traceback\u001b[0m\u001b[0;34m(\u001b[0m\u001b[0mfiltered_tb\u001b[0m\u001b[0;34m)\u001b[0m \u001b[0;32mfrom\u001b[0m \u001b[0;32mNone\u001b[0m\u001b[0;34m\u001b[0m\u001b[0;34m\u001b[0m\u001b[0m\n\u001b[0m\u001b[1;32m     71\u001b[0m         \u001b[0;32mfinally\u001b[0m\u001b[0;34m:\u001b[0m\u001b[0;34m\u001b[0m\u001b[0;34m\u001b[0m\u001b[0m\n\u001b[1;32m     72\u001b[0m             \u001b[0;32mdel\u001b[0m \u001b[0mfiltered_tb\u001b[0m\u001b[0;34m\u001b[0m\u001b[0;34m\u001b[0m\u001b[0m\n",
            "\u001b[0;32m/usr/local/lib/python3.10/dist-packages/tensorflow/python/eager/execute.py\u001b[0m in \u001b[0;36mquick_execute\u001b[0;34m(op_name, num_outputs, inputs, attrs, ctx, name)\u001b[0m\n\u001b[1;32m     51\u001b[0m   \u001b[0;32mtry\u001b[0m\u001b[0;34m:\u001b[0m\u001b[0;34m\u001b[0m\u001b[0;34m\u001b[0m\u001b[0m\n\u001b[1;32m     52\u001b[0m     \u001b[0mctx\u001b[0m\u001b[0;34m.\u001b[0m\u001b[0mensure_initialized\u001b[0m\u001b[0;34m(\u001b[0m\u001b[0;34m)\u001b[0m\u001b[0;34m\u001b[0m\u001b[0;34m\u001b[0m\u001b[0m\n\u001b[0;32m---> 53\u001b[0;31m     tensors = pywrap_tfe.TFE_Py_Execute(ctx._handle, device_name, op_name,\n\u001b[0m\u001b[1;32m     54\u001b[0m                                         inputs, attrs, num_outputs)\n\u001b[1;32m     55\u001b[0m   \u001b[0;32mexcept\u001b[0m \u001b[0mcore\u001b[0m\u001b[0;34m.\u001b[0m\u001b[0m_NotOkStatusException\u001b[0m \u001b[0;32mas\u001b[0m \u001b[0me\u001b[0m\u001b[0;34m:\u001b[0m\u001b[0;34m\u001b[0m\u001b[0;34m\u001b[0m\u001b[0m\n",
            "\u001b[0;31mInvalidArgumentError\u001b[0m: Graph execution error:\n\nDetected at node categorical_crossentropy/softmax_cross_entropy_with_logits defined at (most recent call last):\n  File \"/usr/lib/python3.10/runpy.py\", line 196, in _run_module_as_main\n\n  File \"/usr/lib/python3.10/runpy.py\", line 86, in _run_code\n\n  File \"/usr/local/lib/python3.10/dist-packages/colab_kernel_launcher.py\", line 37, in <module>\n\n  File \"/usr/local/lib/python3.10/dist-packages/traitlets/config/application.py\", line 992, in launch_instance\n\n  File \"/usr/local/lib/python3.10/dist-packages/ipykernel/kernelapp.py\", line 619, in start\n\n  File \"/usr/local/lib/python3.10/dist-packages/tornado/platform/asyncio.py\", line 195, in start\n\n  File \"/usr/lib/python3.10/asyncio/base_events.py\", line 603, in run_forever\n\n  File \"/usr/lib/python3.10/asyncio/base_events.py\", line 1909, in _run_once\n\n  File \"/usr/lib/python3.10/asyncio/events.py\", line 80, in _run\n\n  File \"/usr/local/lib/python3.10/dist-packages/tornado/ioloop.py\", line 685, in <lambda>\n\n  File \"/usr/local/lib/python3.10/dist-packages/tornado/ioloop.py\", line 738, in _run_callback\n\n  File \"/usr/local/lib/python3.10/dist-packages/tornado/gen.py\", line 825, in inner\n\n  File \"/usr/local/lib/python3.10/dist-packages/tornado/gen.py\", line 786, in run\n\n  File \"/usr/local/lib/python3.10/dist-packages/ipykernel/kernelbase.py\", line 361, in process_one\n\n  File \"/usr/local/lib/python3.10/dist-packages/tornado/gen.py\", line 234, in wrapper\n\n  File \"/usr/local/lib/python3.10/dist-packages/ipykernel/kernelbase.py\", line 261, in dispatch_shell\n\n  File \"/usr/local/lib/python3.10/dist-packages/tornado/gen.py\", line 234, in wrapper\n\n  File \"/usr/local/lib/python3.10/dist-packages/ipykernel/kernelbase.py\", line 539, in execute_request\n\n  File \"/usr/local/lib/python3.10/dist-packages/tornado/gen.py\", line 234, in wrapper\n\n  File \"/usr/local/lib/python3.10/dist-packages/ipykernel/ipkernel.py\", line 302, in do_execute\n\n  File \"/usr/local/lib/python3.10/dist-packages/ipykernel/zmqshell.py\", line 539, in run_cell\n\n  File \"/usr/local/lib/python3.10/dist-packages/IPython/core/interactiveshell.py\", line 2975, in run_cell\n\n  File \"/usr/local/lib/python3.10/dist-packages/IPython/core/interactiveshell.py\", line 3030, in _run_cell\n\n  File \"/usr/local/lib/python3.10/dist-packages/IPython/core/async_helpers.py\", line 78, in _pseudo_sync_runner\n\n  File \"/usr/local/lib/python3.10/dist-packages/IPython/core/interactiveshell.py\", line 3257, in run_cell_async\n\n  File \"/usr/local/lib/python3.10/dist-packages/IPython/core/interactiveshell.py\", line 3473, in run_ast_nodes\n\n  File \"/usr/local/lib/python3.10/dist-packages/IPython/core/interactiveshell.py\", line 3553, in run_code\n\n  File \"<ipython-input-14-52f7e06e299e>\", line 3, in <cell line: 2>\n\n  File \"<ipython-input-13-76e4b190cdc6>\", line 54, in main\n\n  File \"/usr/local/lib/python3.10/dist-packages/keras/src/utils/traceback_utils.py\", line 65, in error_handler\n\n  File \"/usr/local/lib/python3.10/dist-packages/keras/src/engine/training.py\", line 1807, in fit\n\n  File \"/usr/local/lib/python3.10/dist-packages/keras/src/engine/training.py\", line 1401, in train_function\n\n  File \"/usr/local/lib/python3.10/dist-packages/keras/src/engine/training.py\", line 1384, in step_function\n\n  File \"/usr/local/lib/python3.10/dist-packages/keras/src/engine/training.py\", line 1373, in run_step\n\n  File \"/usr/local/lib/python3.10/dist-packages/keras/src/engine/training.py\", line 1151, in train_step\n\n  File \"/usr/local/lib/python3.10/dist-packages/keras/src/engine/training.py\", line 1209, in compute_loss\n\n  File \"/usr/local/lib/python3.10/dist-packages/keras/src/engine/compile_utils.py\", line 277, in __call__\n\n  File \"/usr/local/lib/python3.10/dist-packages/keras/src/losses.py\", line 143, in __call__\n\n  File \"/usr/local/lib/python3.10/dist-packages/keras/src/losses.py\", line 270, in call\n\n  File \"/usr/local/lib/python3.10/dist-packages/keras/src/losses.py\", line 2221, in categorical_crossentropy\n\n  File \"/usr/local/lib/python3.10/dist-packages/keras/src/backend.py\", line 5579, in categorical_crossentropy\n\nlogits and labels must be broadcastable: logits_size=[128,101] labels_size=[128,19]\n\t [[{{node categorical_crossentropy/softmax_cross_entropy_with_logits}}]] [Op:__inference_train_function_6434]"
          ]
        }
      ],
      "source": [
        "# running app\n",
        "if __name__ == '__main__':\n",
        "  main();"
      ]
    }
  ],
  "metadata": {
    "jupytext": {
      "cell_metadata_filter": "-all",
      "main_language": "python",
      "notebook_metadata_filter": "-all"
    },
    "language_info": {
      "name": "python"
    },
    "colab": {
      "provenance": []
    },
    "kernelspec": {
      "name": "python3",
      "display_name": "Python 3"
    }
  },
  "nbformat": 4,
  "nbformat_minor": 5
}